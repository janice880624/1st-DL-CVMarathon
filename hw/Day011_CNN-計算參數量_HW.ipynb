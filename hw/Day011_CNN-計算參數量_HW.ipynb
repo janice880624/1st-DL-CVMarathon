{
 "cells": [
  {
   "cell_type": "markdown",
   "metadata": {
    "colab_type": "text",
    "id": "f6jN0Y8x4gNA"
   },
   "source": [
    "## 『本次練習內容』\n",
    "#### 運用Keras搭建簡單的Dense Layer與 Convolution2D Layer，使用相同Neurons數量，計算總參數量相差多少。\n"
   ]
  },
  {
   "cell_type": "markdown",
   "metadata": {},
   "source": [
    "## 『本次練習目的』\n",
    "  #### 本次練習主要是要讓各位同學們了解CNN與FC層的參數使用量差異\n",
    "  #### Convolution2D有許多參數可以設置，之後章節會細談\n",
    "  #### 不熟Keras的學員們也可以藉此了解NN層的不同搭法"
   ]
  },
  {
   "cell_type": "code",
   "execution_count": 3,
   "metadata": {
    "colab": {},
    "colab_type": "code",
    "id": "SAFr7hM24gNB"
   },
   "outputs": [],
   "source": [
    "from keras.models import Sequential\n",
    "from keras.layers import Convolution2D\n",
    "from keras.layers import Input, Dense\n",
    "from keras.models import Model"
   ]
  },
  {
   "cell_type": "code",
   "execution_count": 6,
   "metadata": {},
   "outputs": [
    {
     "name": "stdout",
     "output_type": "stream",
     "text": [
      "Convlutional layer \n",
      "Model: \"sequential_2\"\n",
      "_________________________________________________________________\n",
      "Layer (type)                 Output Shape              Param #   \n",
      "=================================================================\n",
      "conv2d_1 (Conv2D)            (None, 26, 26, 32)        320       \n",
      "=================================================================\n",
      "Total params: 320\n",
      "Trainable params: 320\n",
      "Non-trainable params: 0\n",
      "_________________________________________________________________\n",
      "None\n",
      "\n",
      "\n",
      "\n",
      "\n",
      "Fully connected layer\n",
      "Model: \"sequential_3\"\n",
      "_________________________________________________________________\n",
      "Layer (type)                 Output Shape              Param #   \n",
      "=================================================================\n",
      "dense_1 (Dense)              (None, 784, 288)          576       \n",
      "=================================================================\n",
      "Total params: 576\n",
      "Trainable params: 576\n",
      "Non-trainable params: 0\n",
      "_________________________________________________________________\n",
      "None\n"
     ]
    }
   ],
   "source": [
    "# 輸入照片尺寸 28 × 28 × 1\n",
    "# 使用一層 288 個神經元\n",
    "\n",
    "# 使用 keras 中的可堆疊結構的 model\n",
    "model_cnn = Sequential()\n",
    "\n",
    "# Kernel size 3 × 3，用 32 張，輸入大小 28 × 28 × 1\n",
    "model_cnn.add(Convolution2D(filters=32, kernel_size=(3, 3), input_shape=(28, 28, 1)))\n",
    "\n",
    "# 印出 model 結構\n",
    "# 可以發現 CNN 的參數為 320，這是因為 CNN 與 一般的神經網路一樣，有著 bias（偏差） 的參數\n",
    "print(\"Convlutional layer \")\n",
    "print(model_cnn.summary())\n",
    "print(\"\\n\\n\\n\")\n",
    "\n",
    "# 使用 keras 中的可堆疊結構的 model\n",
    "model_fc = Sequential()\n",
    "\n",
    "# 剛才 CNN 使用了 3 × 3 × 32 個神經元，這邊也使用相同的神經元數量\n",
    "model_fc.add(Dense(units=288, input_shape=(784, 1)))\n",
    "\n",
    "# 印出 model 結構\n",
    "print(\"Fully connected layer\")\n",
    "print(model_fc.summary())\n",
    "\n",
    "# ##大家可以自己變換設定看看參數變化"
   ]
  },
  {
   "cell_type": "code",
   "execution_count": null,
   "metadata": {},
   "outputs": [],
   "source": []
  },
  {
   "cell_type": "code",
   "execution_count": null,
   "metadata": {},
   "outputs": [],
   "source": []
  }
 ],
 "metadata": {
  "colab": {
   "name": "CNN-計算參數量.ipynb",
   "provenance": [],
   "version": "0.3.2"
  },
  "kernelspec": {
   "display_name": "Python 3",
   "language": "python",
   "name": "python3"
  },
  "language_info": {
   "codemirror_mode": {
    "name": "ipython",
    "version": 3
   },
   "file_extension": ".py",
   "mimetype": "text/x-python",
   "name": "python",
   "nbconvert_exporter": "python",
   "pygments_lexer": "ipython3",
   "version": "3.6.5"
  }
 },
 "nbformat": 4,
 "nbformat_minor": 1
}
